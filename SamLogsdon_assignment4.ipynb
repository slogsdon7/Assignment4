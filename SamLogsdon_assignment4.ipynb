{
 "cells": [
  {
   "cell_type": "markdown",
   "metadata": {
    "pycharm": {
     "name": "#%% md\n"
    }
   },
   "source": [
    "### Fetch data "
   ]
  },
  {
   "cell_type": "code",
   "execution_count": null,
   "metadata": {
    "pycharm": {
     "name": "#%%\n"
    }
   },
   "outputs": [],
   "source": [
    "import requests\n",
    "import os\n",
    "from datetime import datetime\n",
    "\n",
    "\n",
    "dates = [('2016-01-01', '2017-01-01'), ('2017-01-01', '2018-01-01'), ('2018-01-01', '2019-01-01'), ('2019-01-01', '2019-10-02')]\n",
    "\n",
    "if os.path.isfile('data.csv'):\n",
    "    os.remove('data.csv')\n",
    "    \n",
    "def fetch(url, params):\n",
    "    response = requests.get(url, params)\n",
    "    if response.status_code == 200:\n",
    "        return response.text\n",
    "    else:\n",
    "        print(response.text)\n",
    "        \n",
    "first = True\n",
    "for start, end in dates:\n",
    "    params = {'format': 'csv', 'minmagnitude': 4.0, 'starttime': start, 'endtime': end}\n",
    "    data = fetch('https://earthquake.usgs.gov/fdsnws/event/1/query', params)\n",
    "    with open('data.csv', 'a') as fp:\n",
    "        if not first:\n",
    "            lines = data.split('\\n')\n",
    "            for line in lines[1:]:\n",
    "                fp.write(line + '\\n')\n",
    "        else:\n",
    "            fp.write(data)\n",
    "            first = False"
   ]
  },
  {
   "cell_type": "markdown",
   "metadata": {
    "pycharm": {
     "name": "#%% md\n"
    }
   },
   "source": [
    "### Run this block first"
   ]
  },
  {
   "cell_type": "code",
   "execution_count": null,
   "metadata": {
    "pycharm": {
     "is_executing": false,
     "name": "#%%\n"
    }
   },
   "outputs": [],
   "source": [
    "import pandas as pd\n",
    "import matplotlib.pyplot as plt\n",
    "%matplotlib inline\n",
    "df = pd.read_csv('data.csv')\n",
    "df.time = pd.to_datetime(df.time)\n"
   ]
  },
  {
   "cell_type": "markdown",
   "metadata": {},
   "source": [
    "### Question 1\n",
    "__Use describe to get basic statistics for all the columns__"
   ]
  },
  {
   "cell_type": "code",
   "execution_count": null,
   "metadata": {
    "pycharm": {
     "is_executing": false,
     "name": "#%%\n"
    }
   },
   "outputs": [],
   "source": [
    "with pd.option_context('display.max_columns', 40):\n",
    "    print(df.describe(include='all'))\n",
    "    "
   ]
  },
  {
   "cell_type": "markdown",
   "metadata": {
    "pycharm": {
     "name": "#%% md\n"
    }
   },
   "source": [
    "### Question 2\n",
    "__Get the top 10 earthquakes by magnitude__"
   ]
  },
  {
   "cell_type": "code",
   "execution_count": null,
   "metadata": {
    "pycharm": {
     "name": "#%%\n"
    }
   },
   "outputs": [],
   "source": [
    "sdf = df.sort_values('mag', ascending=False)\n",
    "print(sdf['mag'].head(10))"
   ]
  },
  {
   "cell_type": "markdown",
   "metadata": {},
   "source": [
    "### Question 3\n",
    "__Handle null/empty values by filling it with zeroes__"
   ]
  },
  {
   "cell_type": "code",
   "execution_count": null,
   "metadata": {
    "pycharm": {
     "name": "#%%\n"
    }
   },
   "outputs": [],
   "source": [
    "df = df.fillna(0)"
   ]
  },
  {
   "cell_type": "markdown",
   "metadata": {
    "pycharm": {
     "name": "#%% md\n"
    }
   },
   "source": [
    "### Question 4\n",
    "__Find the top 10 places where the strongest earthquakes occurred__"
   ]
  },
  {
   "cell_type": "code",
   "execution_count": null,
   "metadata": {
    "pycharm": {
     "is_executing": false,
     "name": "#%%\n"
    }
   },
   "outputs": [],
   "source": [
    "def extract_place(place: str):\n",
    "    return place.split('of')[-1]\n",
    "\n",
    "df.place = df.place.map(extract_place)\n",
    "df.sort_values('mag', ascending=False).place.head(10)"
   ]
  },
  {
   "cell_type": "markdown",
   "metadata": {
    "pycharm": {
     "is_executing": false,
     "name": "#%% md\n"
    }
   },
   "source": [
    "### Question 5 \n",
    "__Find the top 10 places where the weakest earthquakes occurred__"
   ]
  },
  {
   "cell_type": "code",
   "execution_count": null,
   "metadata": {
    "pycharm": {
     "name": "#%%\n"
    }
   },
   "outputs": [],
   "source": [
    "df.sort_values('mag', ascending=True).place.head(10)"
   ]
  },
  {
   "cell_type": "markdown",
   "metadata": {},
   "source": [
    "### Question 6"
   ]
  },
  {
   "cell_type": "code",
   "execution_count": null,
   "metadata": {
    "pycharm": {
     "is_executing": false,
     "name": "#%%\n"
    }
   },
   "outputs": [],
   "source": [
    "intervals = [\n",
    "    (4,4.5),\n",
    "    (4.5,5),\n",
    "    (5,6),\n",
    "    (6,7),\n",
    "    (7, df.mag.max())\n",
    "]\n",
    "df['magbins'] = pd.cut(df.mag, pd.IntervalIndex.from_tuples(intervals))\n",
    "df['year'] = df.time.map(lambda d: d.year)\n",
    "data = df.groupby(['year', 'magbins']).agg(\n",
    "    freq = pd.NamedAgg(column='mag', aggfunc='count')\n",
    ")\n",
    "ax = data.unstack().plot(kind='bar', title='Number of Earthquakes by Magnitude per Year')\n",
    "ax.legend(['4.0-4.5', '4.5-5.0', '5.0-6.0', '6.0-7.0', '7.0-8.2'])\n"
   ]
  },
  {
   "cell_type": "markdown",
   "metadata": {
    "pycharm": {
     "name": "#%% md\n"
    }
   },
   "source": [
    "### Question 7"
   ]
  },
  {
   "cell_type": "code",
   "execution_count": null,
   "metadata": {
    "pycharm": {
     "is_executing": false,
     "name": "#%% \n"
    }
   },
   "outputs": [],
   "source": [
    "def extract_country(place: str):\n",
    "    s = place.split(' of ')[-1]\n",
    "    return s.split(',')[-1]\n",
    "df['country'] = df.place.map(extract_country)\n",
    "df.groupby('country').country.agg('count').sort_values(ascending=False).head(10)"
   ]
  },
  {
   "cell_type": "markdown",
   "metadata": {},
   "source": [
    "### Question 8\n",
    "__The frequency appears to be inversely proportional to the magnitude.__"
   ]
  },
  {
   "cell_type": "code",
   "execution_count": null,
   "metadata": {
    "pycharm": {
     "is_executing": false,
     "name": "#%% \n"
    }
   },
   "outputs": [],
   "source": [
    "plt.hist(x=df.mag, bins=40, log=True, color='purple', alpha=0.5)\n",
    "plt.title('Distribution of Earthquakes by Magnitude')\n",
    "plt.xlabel('Magnitude')\n",
    "plt.ylabel('Earthquake Frequency')"
   ]
  },
  {
   "cell_type": "markdown",
   "metadata": {},
   "source": [
    "### Question 9\n",
    "__Similar to the relationship between magnitude and frequency, but less even across the distribution__"
   ]
  },
  {
   "cell_type": "code",
   "execution_count": null,
   "metadata": {
    "pycharm": {
     "is_executing": false,
     "name": "#%% \n"
    }
   },
   "outputs": [],
   "source": [
    "plt.hist(x=df.depth, log=True, bins=40, color='green', alpha=0.5)\n",
    "plt.title('Distribution of Earthquakes by Depth')\n",
    "plt.xlabel('Depth')\n",
    "plt.ylabel('Earthquake Frequency')"
   ]
  },
  {
   "cell_type": "markdown",
   "metadata": {},
   "source": [
    "### Question 10"
   ]
  },
  {
   "cell_type": "code",
   "execution_count": null,
   "metadata": {
    "pycharm": {
     "is_executing": false,
     "name": "#%% \n"
    }
   },
   "outputs": [],
   "source": [
    "#fig, ax = plt.subplots(figsize=(12, 4))\n",
    "plt.rcParams['figure.figsize'] = [9.5, 6]\n",
    "plt.scatter(df.latitude, df.longitude, c=df.mag)\n",
    "plt.xlabel('latitude')\n",
    "plt.ylabel('longitude')\n",
    "plt.title('Earthquake Locations')\n",
    "plt.colorbar(label='Magnitude')"
   ]
  }
 ],
 "metadata": {
  "kernelspec": {
   "display_name": "Python 3",
   "language": "python",
   "name": "python3"
  },
  "language_info": {
   "codemirror_mode": {
    "name": "ipython",
    "version": 3
   },
   "file_extension": ".py",
   "mimetype": "text/x-python",
   "name": "python",
   "nbconvert_exporter": "python",
   "pygments_lexer": "ipython3",
   "version": "3.7.4"
  },
  "pycharm": {
   "stem_cell": {
    "cell_type": "raw",
    "metadata": {
     "collapsed": false
    },
    "source": []
   }
  }
 },
 "nbformat": 4,
 "nbformat_minor": 1
}
